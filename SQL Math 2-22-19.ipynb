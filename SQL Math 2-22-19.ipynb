{
 "cells": [
  {
   "cell_type": "markdown",
   "metadata": {},
   "source": [
    "https://www.hackerrank.com/challenges/weather-observation-station-19/problem\n"
   ]
  },
  {
   "cell_type": "markdown",
   "metadata": {},
   "source": [
    "Consider and to be two points on a 2D plane where are the respective minimum and maximum values of Northern Latitude (LAT_N) and\n",
    "\n",
    "are the respective minimum and maximum values of Western Longitude (LONG_W) in STATION.\n",
    "\n",
    "Query the Euclidean Distance between points\n",
    "and and format your answer to display\n",
    "\n",
    "decimal digits.\n",
    "\n",
    "Input Format\n",
    "\n",
    "The STATION table is described as follows:\n",
    "\n",
    "[Station.jpg]\n",
    "\n",
    "where LAT_N is the northern latitude and LONG_W is the western longitude. "
   ]
  },
  {
   "cell_type": "raw",
   "metadata": {},
   "source": [
    "SELECT ROUND(\n",
    "             power(\n",
    "                   (power((b-a),2) +\n",
    "                    power((d-c),2)   \n",
    "                    ),0.5\n",
    "            ), 4) answer \n",
    "FROM(\n",
    "    SELECT min(lat_n) a,\n",
    "           max(lat_n) b, \n",
    "           min(long_w) c , \n",
    "           max(long_w) d \n",
    "    FROM station) E;"
   ]
  },
  {
   "cell_type": "code",
   "execution_count": null,
   "metadata": {},
   "outputs": [],
   "source": []
  }
 ],
 "metadata": {
  "kernelspec": {
   "display_name": "Python 3",
   "language": "python",
   "name": "python3"
  },
  "language_info": {
   "codemirror_mode": {
    "name": "ipython",
    "version": 3
   },
   "file_extension": ".py",
   "mimetype": "text/x-python",
   "name": "python",
   "nbconvert_exporter": "python",
   "pygments_lexer": "ipython3",
   "version": "3.6.6"
  }
 },
 "nbformat": 4,
 "nbformat_minor": 2
}
