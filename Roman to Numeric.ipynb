{
 "cells": [
  {
   "cell_type": "markdown",
   "metadata": {},
   "source": [
    "# Roman to Numeric"
   ]
  },
  {
   "cell_type": "markdown",
   "metadata": {},
   "source": [
    "###  1) Given a string representing a Roman numeral, write a function to compute the Arabic numerical equivalent. For example,\n",
    "\n",
    "### roman_to_arabic(\"MDCCLXXVI\")\n",
    "\n",
    "### should return\n",
    "\n",
    "### 1776."
   ]
  },
  {
   "cell_type": "code",
   "execution_count": 2,
   "metadata": {},
   "outputs": [],
   "source": [
    "\n",
    "def roman_to_arabic(roman):\n",
    "    \"\"\"This function converts roman numbers to arabic numbers.\n",
    "    \n",
    "    \n",
    "    input: roman : string consisting of letters M,D,C,L,X,V,or I.  \n",
    "    \n",
    "    returns: The arabic version of the roman number, or error message if not valid.\n",
    "    \n",
    "    It checks that charachters are valid, but does not verify validity of input.\"\"\"\n",
    "    \n",
    "    \n",
    "    roman_nums = {'M':1000, 'D':500, 'C':100, 'L':50, 'X':10, 'V':5, 'I':1}\n",
    "    error = False\n",
    "    error = [True for x in roman if x not in roman_nums] #quick error check\n",
    "    if error:\n",
    "        return \"Not all charachters are roman numerals.\"\n",
    "    roman_nums['0']=0\n",
    "    arabic = 0\n",
    "    length = len(roman)\n",
    "    temp = []\n",
    "    roman += '0'                                         #pad an extra digit to end of input\n",
    "    for i in range(length):                              #Once through the input charachters is enough\n",
    "        #print(roman_nums[roman[i]],roman_nums[roman[i+1]])\n",
    "        if roman_nums[roman[i]]>roman_nums[roman[i+1]]:         \n",
    "            arabic += roman_nums[roman[i]]\n",
    "            #print('plus this',roman_nums[roman[i]])\n",
    "            if len(temp)>0:\n",
    "                if roman_nums[roman[i]] > temp[0]:\n",
    "                    arabic -= sum([x for x in temp])\n",
    "                    #print('minus this',sum([x for x in temp]))\n",
    "                else:\n",
    "                    arabic += sum([x for x in temp])\n",
    "                    #print('add this',sum([x for x in temp]))\n",
    "                temp = []\n",
    "        else:\n",
    "            temp.append(roman_nums[roman[i]])\n",
    "        #print('answer',arabic)\n",
    "           \n",
    "    return arabic"
   ]
  },
  {
   "cell_type": "code",
   "execution_count": 2,
   "metadata": {},
   "outputs": [
    {
     "data": {
      "text/plain": [
       "1776"
      ]
     },
     "execution_count": 2,
     "metadata": {},
     "output_type": "execute_result"
    }
   ],
   "source": [
    "roman_to_arabic(\"MDCCLXXVI\")\n",
    "    "
   ]
  },
  {
   "cell_type": "code",
   "execution_count": 3,
   "metadata": {},
   "outputs": [
    {
     "data": {
      "text/plain": [
       "1984"
      ]
     },
     "execution_count": 3,
     "metadata": {},
     "output_type": "execute_result"
    }
   ],
   "source": [
    "roman_to_arabic(\"MCMLXXXIV\")"
   ]
  },
  {
   "cell_type": "code",
   "execution_count": null,
   "metadata": {},
   "outputs": [],
   "source": []
  }
 ],
 "metadata": {
  "kernelspec": {
   "display_name": "Python 3",
   "language": "python",
   "name": "python3"
  },
  "language_info": {
   "codemirror_mode": {
    "name": "ipython",
    "version": 3
   },
   "file_extension": ".py",
   "mimetype": "text/x-python",
   "name": "python",
   "nbconvert_exporter": "python",
   "pygments_lexer": "ipython3",
   "version": "3.6.6"
  }
 },
 "nbformat": 4,
 "nbformat_minor": 2
}
