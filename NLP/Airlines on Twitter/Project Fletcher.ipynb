{
 "cells": [
  {
   "cell_type": "code",
   "execution_count": 1,
   "metadata": {},
   "outputs": [],
   "source": [
    "import tweepy\n",
    "#import cnfg     #doesn't work for me.  \n",
    "from tqdm import tqdm\n",
    "\n",
    "import pandas as pd\n",
    "import matplotlib.pyplot as plt\n",
    "plt.style.use('ggplot')"
   ]
  },
  {
   "cell_type": "code",
   "execution_count": 2,
   "metadata": {},
   "outputs": [],
   "source": [
    "\n",
    "auth = tweepy.OAuthHandler(\"#########################\",\n",
    "                           \"##################################################\")\n",
    "auth.set_access_token(\"##################################################\",\n",
    "                      \"#############################################\")\n",
    "\n",
    "api=tweepy.API(auth)"
   ]
  },
  {
   "cell_type": "code",
   "execution_count": 3,
   "metadata": {},
   "outputs": [
    {
     "name": "stdout",
     "output_type": "stream",
     "text": [
      "Status(_api=<tweepy.api.API object at 0x0000027C33A5D898>, _json={'created_at': 'Fri Nov 23 00:55:44 +0000 2018', 'id': 1065770843182153729, 'id_str': '1065770843182153729', 'text': '@AmericanAir 2nd time ever flying w American on the tail. Hardcore JetBlue flyer. Dropped 25k points from a Citiban… https://t.co/Opu2Vy4Ra2', 'truncated': True, 'entities': {'hashtags': [], 'symbols': [], 'user_mentions': [{'screen_name': 'AmericanAir', 'name': 'American Airlines', 'id': 22536055, 'id_str': '22536055', 'indices': [0, 12]}], 'urls': [{'url': 'https://t.co/Opu2Vy4Ra2', 'expanded_url': 'https://twitter.com/i/web/status/1065770843182153729', 'display_url': 'twitter.com/i/web/status/1…', 'indices': [117, 140]}]}, 'metadata': {'iso_language_code': 'en', 'result_type': 'recent'}, 'source': '<a href=\"https://mobile.twitter.com\" rel=\"nofollow\">Twitter Lite</a>', 'in_reply_to_status_id': 1065769463545544704, 'in_reply_to_status_id_str': '1065769463545544704', 'in_reply_to_user_id': 22536055, 'in_reply_to_user_id_str': '22536055', 'in_reply_to_screen_name': 'AmericanAir', 'user': {'id': 801798088620994563, 'id_str': '801798088620994563', 'name': 'Jake Wollner', 'screen_name': 'baldfrenchman', 'location': '', 'description': '', 'url': None, 'entities': {'description': {'urls': []}}, 'protected': False, 'followers_count': 9, 'friends_count': 30, 'listed_count': 0, 'created_at': 'Thu Nov 24 14:42:15 +0000 2016', 'favourites_count': 1, 'utc_offset': None, 'time_zone': None, 'geo_enabled': False, 'verified': False, 'statuses_count': 11, 'lang': 'en', 'contributors_enabled': False, 'is_translator': False, 'is_translation_enabled': False, 'profile_background_color': 'F5F8FA', 'profile_background_image_url': None, 'profile_background_image_url_https': None, 'profile_background_tile': False, 'profile_image_url': 'http://pbs.twimg.com/profile_images/801800344233791489/40eM6Asy_normal.jpg', 'profile_image_url_https': 'https://pbs.twimg.com/profile_images/801800344233791489/40eM6Asy_normal.jpg', 'profile_link_color': '1DA1F2', 'profile_sidebar_border_color': 'C0DEED', 'profile_sidebar_fill_color': 'DDEEF6', 'profile_text_color': '333333', 'profile_use_background_image': True, 'has_extended_profile': False, 'default_profile': True, 'default_profile_image': False, 'following': False, 'follow_request_sent': False, 'notifications': False, 'translator_type': 'none'}, 'geo': None, 'coordinates': None, 'place': None, 'contributors': None, 'is_quote_status': False, 'retweet_count': 0, 'favorite_count': 0, 'favorited': False, 'retweeted': False, 'lang': 'en'}, created_at=datetime.datetime(2018, 11, 23, 0, 55, 44), id=1065770843182153729, id_str='1065770843182153729', text='@AmericanAir 2nd time ever flying w American on the tail. Hardcore JetBlue flyer. Dropped 25k points from a Citiban… https://t.co/Opu2Vy4Ra2', truncated=True, entities={'hashtags': [], 'symbols': [], 'user_mentions': [{'screen_name': 'AmericanAir', 'name': 'American Airlines', 'id': 22536055, 'id_str': '22536055', 'indices': [0, 12]}], 'urls': [{'url': 'https://t.co/Opu2Vy4Ra2', 'expanded_url': 'https://twitter.com/i/web/status/1065770843182153729', 'display_url': 'twitter.com/i/web/status/1…', 'indices': [117, 140]}]}, metadata={'iso_language_code': 'en', 'result_type': 'recent'}, source='Twitter Lite', source_url='https://mobile.twitter.com', in_reply_to_status_id=1065769463545544704, in_reply_to_status_id_str='1065769463545544704', in_reply_to_user_id=22536055, in_reply_to_user_id_str='22536055', in_reply_to_screen_name='AmericanAir', author=User(_api=<tweepy.api.API object at 0x0000027C33A5D898>, _json={'id': 801798088620994563, 'id_str': '801798088620994563', 'name': 'Jake Wollner', 'screen_name': 'baldfrenchman', 'location': '', 'description': '', 'url': None, 'entities': {'description': {'urls': []}}, 'protected': False, 'followers_count': 9, 'friends_count': 30, 'listed_count': 0, 'created_at': 'Thu Nov 24 14:42:15 +0000 2016', 'favourites_count': 1, 'utc_offset': None, 'time_zone': None, 'geo_enabled': False, 'verified': False, 'statuses_count': 11, 'lang': 'en', 'contributors_enabled': False, 'is_translator': False, 'is_translation_enabled': False, 'profile_background_color': 'F5F8FA', 'profile_background_image_url': None, 'profile_background_image_url_https': None, 'profile_background_tile': False, 'profile_image_url': 'http://pbs.twimg.com/profile_images/801800344233791489/40eM6Asy_normal.jpg', 'profile_image_url_https': 'https://pbs.twimg.com/profile_images/801800344233791489/40eM6Asy_normal.jpg', 'profile_link_color': '1DA1F2', 'profile_sidebar_border_color': 'C0DEED', 'profile_sidebar_fill_color': 'DDEEF6', 'profile_text_color': '333333', 'profile_use_background_image': True, 'has_extended_profile': False, 'default_profile': True, 'default_profile_image': False, 'following': False, 'follow_request_sent': False, 'notifications': False, 'translator_type': 'none'}, id=801798088620994563, id_str='801798088620994563', name='Jake Wollner', screen_name='baldfrenchman', location='', description='', url=None, entities={'description': {'urls': []}}, protected=False, followers_count=9, friends_count=30, listed_count=0, created_at=datetime.datetime(2016, 11, 24, 14, 42, 15), favourites_count=1, utc_offset=None, time_zone=None, geo_enabled=False, verified=False, statuses_count=11, lang='en', contributors_enabled=False, is_translator=False, is_translation_enabled=False, profile_background_color='F5F8FA', profile_background_image_url=None, profile_background_image_url_https=None, profile_background_tile=False, profile_image_url='http://pbs.twimg.com/profile_images/801800344233791489/40eM6Asy_normal.jpg', profile_image_url_https='https://pbs.twimg.com/profile_images/801800344233791489/40eM6Asy_normal.jpg', profile_link_color='1DA1F2', profile_sidebar_border_color='C0DEED', profile_sidebar_fill_color='DDEEF6', profile_text_color='333333', profile_use_background_image=True, has_extended_profile=False, default_profile=True, default_profile_image=False, following=False, follow_request_sent=False, notifications=False, translator_type='none'), user=User(_api=<tweepy.api.API object at 0x0000027C33A5D898>, _json={'id': 801798088620994563, 'id_str': '801798088620994563', 'name': 'Jake Wollner', 'screen_name': 'baldfrenchman', 'location': '', 'description': '', 'url': None, 'entities': {'description': {'urls': []}}, 'protected': False, 'followers_count': 9, 'friends_count': 30, 'listed_count': 0, 'created_at': 'Thu Nov 24 14:42:15 +0000 2016', 'favourites_count': 1, 'utc_offset': None, 'time_zone': None, 'geo_enabled': False, 'verified': False, 'statuses_count': 11, 'lang': 'en', 'contributors_enabled': False, 'is_translator': False, 'is_translation_enabled': False, 'profile_background_color': 'F5F8FA', 'profile_background_image_url': None, 'profile_background_image_url_https': None, 'profile_background_tile': False, 'profile_image_url': 'http://pbs.twimg.com/profile_images/801800344233791489/40eM6Asy_normal.jpg', 'profile_image_url_https': 'https://pbs.twimg.com/profile_images/801800344233791489/40eM6Asy_normal.jpg', 'profile_link_color': '1DA1F2', 'profile_sidebar_border_color': 'C0DEED', 'profile_sidebar_fill_color': 'DDEEF6', 'profile_text_color': '333333', 'profile_use_background_image': True, 'has_extended_profile': False, 'default_profile': True, 'default_profile_image': False, 'following': False, 'follow_request_sent': False, 'notifications': False, 'translator_type': 'none'}, id=801798088620994563, id_str='801798088620994563', name='Jake Wollner', screen_name='baldfrenchman', location='', description='', url=None, entities={'description': {'urls': []}}, protected=False, followers_count=9, friends_count=30, listed_count=0, created_at=datetime.datetime(2016, 11, 24, 14, 42, 15), favourites_count=1, utc_offset=None, time_zone=None, geo_enabled=False, verified=False, statuses_count=11, lang='en', contributors_enabled=False, is_translator=False, is_translation_enabled=False, profile_background_color='F5F8FA', profile_background_image_url=None, profile_background_image_url_https=None, profile_background_tile=False, profile_image_url='http://pbs.twimg.com/profile_images/801800344233791489/40eM6Asy_normal.jpg', profile_image_url_https='https://pbs.twimg.com/profile_images/801800344233791489/40eM6Asy_normal.jpg', profile_link_color='1DA1F2', profile_sidebar_border_color='C0DEED', profile_sidebar_fill_color='DDEEF6', profile_text_color='333333', profile_use_background_image=True, has_extended_profile=False, default_profile=True, default_profile_image=False, following=False, follow_request_sent=False, notifications=False, translator_type='none'), geo=None, coordinates=None, place=None, contributors=None, is_quote_status=False, retweet_count=0, favorite_count=0, favorited=False, retweeted=False, lang='en')"
     ]
    },
    {
     "name": "stdout",
     "output_type": "stream",
     "text": [
      "\n"
     ]
    }
   ],
   "source": [
    "max_tweets=1\n",
    "\n",
    "#Tweepy Cursor handles pagination .. \n",
    "\n",
    "for tweet in tweepy.Cursor(api.search,q=\"@AmericanAir\").items(max_tweets):\n",
    "    print(tweet)"
   ]
  },
  {
   "cell_type": "code",
   "execution_count": null,
   "metadata": {},
   "outputs": [],
   "source": [
    "results=[]\n",
    "\n",
    "\n",
    "for tweet in tweepy.Cursor(api.search,q=\"@AmericanAir\",wait_on_rate_limit=True).items(100000):\n",
    "    results.append(tweet)"
   ]
  },
  {
   "cell_type": "code",
   "execution_count": null,
   "metadata": {},
   "outputs": [],
   "source": [
    "#  import pandas as pd\n",
    "def structure_results(results):\n",
    "    id_list=[tweet.id for tweet in results]\n",
    "    data=pd.DataFrame(id_list,columns=['id'])\n",
    "    \n",
    "    data[\"text\"]= [tweet.text.encode('utf-8') for tweet in results]\n",
    "    data[\"datetime\"]=[tweet.created_at for tweet in results]\n",
    "    data[\"Location\"]=[tweet.place for tweet in results]\n",
    "    \n",
    "    return data"
   ]
  },
  {
   "cell_type": "code",
   "execution_count": null,
   "metadata": {},
   "outputs": [],
   "source": [
    "pd.set_option('max_colwidth',180)\n",
    "data=structure_results(results)\n",
    "data"
   ]
  },
  {
   "cell_type": "markdown",
   "metadata": {},
   "source": [
    " "
   ]
  },
  {
   "cell_type": "markdown",
   "metadata": {},
   "source": [
    " "
   ]
  },
  {
   "cell_type": "markdown",
   "metadata": {},
   "source": [
    " "
   ]
  },
  {
   "cell_type": "markdown",
   "metadata": {},
   "source": [
    " "
   ]
  },
  {
   "cell_type": "code",
   "execution_count": null,
   "metadata": {},
   "outputs": [],
   "source": [
    "from pymongo import MongoClient\n",
    "from tweepy import Stream\n",
    "from tweepy.streaming import StreamListener\n",
    "\n",
    "import json"
   ]
  },
  {
   "cell_type": "code",
   "execution_count": null,
   "metadata": {},
   "outputs": [],
   "source": [
    "# Connect to monogodb server.  Make sure it's running first!\n",
    "client = MongoClient('localhost', 27017)"
   ]
  },
  {
   "cell_type": "code",
   "execution_count": null,
   "metadata": {},
   "outputs": [],
   "source": [
    "client.list_database_names()"
   ]
  },
  {
   "cell_type": "code",
   "execution_count": null,
   "metadata": {},
   "outputs": [],
   "source": [
    "# Connect to the database for the first time\n",
    "twitter_db = client['twitter_database']\n",
    "\n",
    "# Create a collection\n",
    "tweet_collection = twitter_db.tweets"
   ]
  },
  {
   "cell_type": "code",
   "execution_count": null,
   "metadata": {},
   "outputs": [],
   "source": [
    "tweet_dict_list[0]"
   ]
  },
  {
   "cell_type": "code",
   "execution_count": null,
   "metadata": {},
   "outputs": [],
   "source": [
    "tweet_collection.insert_one(tweet_dict_list[0])"
   ]
  },
  {
   "cell_type": "code",
   "execution_count": null,
   "metadata": {},
   "outputs": [],
   "source": [
    "tweet_collection.find_one()"
   ]
  },
  {
   "cell_type": "code",
   "execution_count": null,
   "metadata": {},
   "outputs": [],
   "source": [
    "tweet_collection.insert_many(tweet_dict_list[1:5])"
   ]
  },
  {
   "cell_type": "code",
   "execution_count": null,
   "metadata": {},
   "outputs": [],
   "source": [
    "for t in tweet_collection.find():\n",
    "    print(t)"
   ]
  },
  {
   "cell_type": "code",
   "execution_count": null,
   "metadata": {},
   "outputs": [],
   "source": [
    "for t in tweet_collection.find({'favorite_count': {'$gt':0}}):\n",
    "    print(t)"
   ]
  },
  {
   "cell_type": "code",
   "execution_count": null,
   "metadata": {},
   "outputs": [],
   "source": [
    "client.drop_database('twitter_database')"
   ]
  },
  {
   "cell_type": "code",
   "execution_count": null,
   "metadata": {},
   "outputs": [],
   "source": [
    "class listener(StreamListener):\n",
    "\n",
    "    def on_data(self, data):\n",
    "        data = json.loads(data)\n",
    "        \n",
    "        # Pull the fields we want, and throw it into our mongodb database\n",
    "        if data['lang'] == 'en':\n",
    "            tweet_document = {}\n",
    "\n",
    "            tweet_document['created_at'] = data['created_at']\n",
    "            tweet_document['favorite_count'] = data['favorite_count']\n",
    "            tweet_document['retweet_count'] = data['retweet_count']\n",
    "\n",
    "            #Get full text if it is an extended tweet\n",
    "            if 'extended_tweet' in data.keys():\n",
    "                tweet_document['text'] = data['extended_tweet']['full_text']\n",
    "            else:\n",
    "                tweet_document['text'] = data['text']\n",
    "\n",
    "            tweet_document['screen_name'] = data['user']['screen_name']\n",
    "\n",
    "            text = TextBlob(tweet_document['text']).sentiment\n",
    "\n",
    "            tweet_document['sentiment'] = text.polarity\n",
    "            tweet_document['subjectivity'] = text.subjectivity\n",
    "\n",
    "           # print(tweet_document)\n",
    "           # print('\\n')\n",
    "            tweet_collection.insert_one(tweet_document)\n",
    "        \n",
    "        return True\n",
    "\n",
    "    def on_error(self, status):\n",
    "        print(status)"
   ]
  },
  {
   "cell_type": "code",
   "execution_count": null,
   "metadata": {},
   "outputs": [],
   "source": [
    "twitterStream = Stream(auth, listener())\n",
    "data = twitterStream.filter(track=[\"bitcoin\"])"
   ]
  },
  {
   "cell_type": "code",
   "execution_count": null,
   "metadata": {},
   "outputs": [],
   "source": [
    "twitter_db['tweets'].find_one()"
   ]
  },
  {
   "cell_type": "code",
   "execution_count": null,
   "metadata": {},
   "outputs": [],
   "source": [
    "res = twitter_db['tweets'].find().sort([('created_at',-1)]).limit(100)"
   ]
  },
  {
   "cell_type": "code",
   "execution_count": null,
   "metadata": {},
   "outputs": [],
   "source": [
    "res_list = [item for item in res]"
   ]
  },
  {
   "cell_type": "code",
   "execution_count": null,
   "metadata": {},
   "outputs": [],
   "source": [
    "df = pd.DataFrame(res_list)\n",
    "df.head()"
   ]
  },
  {
   "cell_type": "markdown",
   "metadata": {},
   "source": [
    " "
   ]
  }
 ],
 "metadata": {
  "kernelspec": {
   "display_name": "Python 3",
   "language": "python",
   "name": "python3"
  },
  "language_info": {
   "codemirror_mode": {
    "name": "ipython",
    "version": 3
   },
   "file_extension": ".py",
   "mimetype": "text/x-python",
   "name": "python",
   "nbconvert_exporter": "python",
   "pygments_lexer": "ipython3",
   "version": "3.6.6"
  }
 },
 "nbformat": 4,
 "nbformat_minor": 2
}
